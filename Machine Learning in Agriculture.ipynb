{
 "cells": [
  {
   "cell_type": "code",
   "execution_count": 1,
   "metadata": {},
   "outputs": [],
   "source": [
    "import pandas as pd\n",
    "import numpy as np\n",
    "import seaborn as sns\n",
    "import matplotlib.pyplot as plt\n",
    "from sklearn import preprocessing\n",
    "from sklearn.model_selection import train_test_split\n",
    "from sklearn.metrics import confusion_matrix \n",
    "from sklearn.metrics import accuracy_score\n",
    "from sklearn.model_selection import train_test_split\n",
    "from sklearn.ensemble import RandomForestClassifier\n",
    "from sklearn.feature_selection import RFE\n",
    "from sklearn.metrics import confusion_matrix,accuracy_score,f1_score"
   ]
  },
  {
   "cell_type": "code",
   "execution_count": 27,
   "metadata": {},
   "outputs": [],
   "source": [
    "# train and test data\n",
    "train_data=pd.read_csv(r'C:\\Users\\User\\Desktop\\ms\\projects\\Janatahack Machine Learning in Agriculture\\train_yaOffsB.csv')\n",
    "test_data=pd.read_csv(r'C:\\Users\\User\\Desktop\\ms\\projects\\Janatahack Machine Learning in Agriculture\\test_pFkWwen.csv')"
   ]
  },
  {
   "cell_type": "code",
   "execution_count": 3,
   "metadata": {},
   "outputs": [
    {
     "data": {
      "text/plain": [
       "(88858, 10)"
      ]
     },
     "execution_count": 3,
     "metadata": {},
     "output_type": "execute_result"
    }
   ],
   "source": [
    "train_data.shape"
   ]
  },
  {
   "cell_type": "code",
   "execution_count": 4,
   "metadata": {},
   "outputs": [
    {
     "data": {
      "text/plain": [
       "ID                            0\n",
       "Estimated_Insects_Count       0\n",
       "Crop_Type                     0\n",
       "Soil_Type                     0\n",
       "Pesticide_Use_Category        0\n",
       "Number_Doses_Week             0\n",
       "Number_Weeks_Used          9000\n",
       "Number_Weeks_Quit             0\n",
       "Season                        0\n",
       "Crop_Damage                   0\n",
       "dtype: int64"
      ]
     },
     "execution_count": 4,
     "metadata": {},
     "output_type": "execute_result"
    }
   ],
   "source": [
    "train_data.isnull().sum()"
   ]
  },
  {
   "cell_type": "code",
   "execution_count": 5,
   "metadata": {},
   "outputs": [
    {
     "data": {
      "text/plain": [
       "0    74238\n",
       "1    12307\n",
       "2     2313\n",
       "Name: Crop_Damage, dtype: int64"
      ]
     },
     "execution_count": 5,
     "metadata": {},
     "output_type": "execute_result"
    },
    {
     "data": {
      "image/png": "[encoded data removed]",
      "text/plain": [
       "<Figure size 432x288 with 1 Axes>"
      ]
     },
     "metadata": {
      "needs_background": "light"
     },
     "output_type": "display_data"
    }
   ],
   "source": [
    "#distribution of traget variable\n",
    "sns.countplot(train_data['Crop_Damage'])\n",
    "train_data['Crop_Damage'].value_counts()"
   ]
  },
  {
   "cell_type": "markdown",
   "metadata": {},
   "source": [
    "according to data distribution it is a imbalanced case of classification\n",
    "\n",
    "  category       data percente\n",
    "   1.             86.92\n",
    "   2.             13.85\n",
    "   3.             .026"
   ]
  },
  {
   "cell_type": "code",
   "execution_count": 52,
   "metadata": {},
   "outputs": [
    {
     "name": "stdout",
     "output_type": "stream",
     "text": [
      "<class 'pandas.core.frame.DataFrame'>\n",
      "RangeIndex: 88858 entries, 0 to 88857\n",
      "Data columns (total 10 columns):\n",
      " #   Column                   Non-Null Count  Dtype  \n",
      "---  ------                   --------------  -----  \n",
      " 0   ID                       88858 non-null  object \n",
      " 1   Estimated_Insects_Count  88858 non-null  int64  \n",
      " 2   Crop_Type                88858 non-null  int64  \n",
      " 3   Soil_Type                88858 non-null  int64  \n",
      " 4   Pesticide_Use_Category   88858 non-null  int64  \n",
      " 5   Number_Doses_Week        88858 non-null  int64  \n",
      " 6   Number_Weeks_Used        79858 non-null  float64\n",
      " 7   Number_Weeks_Quit        88858 non-null  int64  \n",
      " 8   Season                   88858 non-null  int64  \n",
      " 9   Crop_Damage              88858 non-null  int64  \n",
      "dtypes: float64(1), int64(8), object(1)\n",
      "memory usage: 6.8+ MB\n"
     ]
    }
   ],
   "source": [
    "train_data.info()"
   ]
  },
  {
   "cell_type": "code",
   "execution_count": 6,
   "metadata": {},
   "outputs": [],
   "source": [
    "train_data['Number_Weeks_Used']=train_data['Number_Weeks_Used'].fillna(999)\n",
    "test_data['Number_Weeks_Used']=test_data['Number_Weeks_Used'].fillna(999)"
   ]
  },
  {
   "cell_type": "code",
   "execution_count": null,
   "metadata": {},
   "outputs": [],
   "source": [
    "train_data=train_data['Number_Weeks_Used']"
   ]
  },
  {
   "cell_type": "code",
   "execution_count": 29,
   "metadata": {},
   "outputs": [],
   "source": [
    "train_data['Crop_Type']=train_data['Crop_Type'].astype('object')\n",
    "train_data['Soil_Type']=train_data['Soil_Type'].astype('object')\n",
    "train_data['Pesticide_Use_Category']=train_data['Pesticide_Use_Category'].astype('object')\n",
    "train_data['Season']=train_data['Season'].astype('object')\n",
    "\n",
    "test_data['Crop_Type']=test_data['Crop_Type'].astype('object')\n",
    "test_data['Soil_Type']=test_data['Soil_Type'].astype('object')\n",
    "test_data['Pesticide_Use_Category']=test_data['Pesticide_Use_Category'].astype('object')\n",
    "test_data['Season']=test_data['Season'].astype('object')"
   ]
  },
  {
   "cell_type": "code",
   "execution_count": 30,
   "metadata": {},
   "outputs": [],
   "source": [
    "obj=train_data[['Crop_Type','Soil_Type','Pesticide_Use_Category','Season']]\n",
    "encod=pd.get_dummies(obj,drop_first=True)\n",
    "\n",
    "obj1=test_data[['Crop_Type','Soil_Type','Pesticide_Use_Category','Season']]\n",
    "encod1=pd.get_dummies(obj1,drop_first=True)"
   ]
  },
  {
   "cell_type": "code",
   "execution_count": 31,
   "metadata": {},
   "outputs": [],
   "source": [
    "train_data1=pd.concat([train_data,encod],axis=1)\n",
    "test_data1=pd.concat([test_data,encod1],axis=1)"
   ]
  },
  {
   "cell_type": "code",
   "execution_count": null,
   "metadata": {},
   "outputs": [],
   "source": []
  },
  {
   "cell_type": "code",
   "execution_count": 32,
   "metadata": {},
   "outputs": [],
   "source": [
    "train_data2=train_data1.drop(columns=['Crop_Type','Soil_Type','Pesticide_Use_Category','Season'])\n",
    "test_data2=test_data1.drop(columns=['Crop_Type','Soil_Type','Pesticide_Use_Category','Season'])"
   ]
  },
  {
   "cell_type": "code",
   "execution_count": 33,
   "metadata": {},
   "outputs": [],
   "source": [
    "train_data3=train_data2.drop(columns=['ID'])\n",
    "\n",
    "ID=test_data2['ID']\n",
    "\n",
    "test_data3=test_data2.drop(columns=['ID'])"
   ]
  },
  {
   "cell_type": "code",
   "execution_count": 34,
   "metadata": {},
   "outputs": [],
   "source": [
    "y=train_data3.loc[:,'Crop_Damage']\n",
    "x=train_data3.drop(columns=['Crop_Damage'])"
   ]
  },
  {
   "cell_type": "code",
   "execution_count": 39,
   "metadata": {},
   "outputs": [
    {
     "data": {
      "text/plain": [
       "SequentialFeatureSelector(clone_estimator=True, cv=5,\n",
       "                          estimator=XGBClassifier(base_score=0.5, booster=None,\n",
       "                                                  colsample_bylevel=1,\n",
       "                                                  colsample_bynode=1,\n",
       "                                                  colsample_bytree=1, gamma=0,\n",
       "                                                  gpu_id=-1,\n",
       "                                                  importance_type='gain',\n",
       "                                                  interaction_constraints=None,\n",
       "                                                  learning_rate=0.1,\n",
       "                                                  max_delta_step=0, max_depth=6,\n",
       "                                                  min_child_weight=1,\n",
       "                                                  missing=nan,\n",
       "                                                  monotone_constraints=None,\n",
       "                                                  n_estimator=100,\n",
       "                                                  n_estimators=100, n_jobs=0,\n",
       "                                                  num_parallel_tree=1,\n",
       "                                                  objective='multi:softprob',\n",
       "                                                  random_state=0, reg_alpha=0,\n",
       "                                                  reg_lambda=1,\n",
       "                                                  scale_pos_weight=None,\n",
       "                                                  subsample=1, tree_method=None,\n",
       "                                                  validate_parameters=False,\n",
       "                                                  verbosity=None),\n",
       "                          fixed_features=None, floating=True, forward=True,\n",
       "                          k_features=(3, 8), n_jobs=1, pre_dispatch='2*n_jobs',\n",
       "                          scoring='accuracy', verbose=0)"
      ]
     },
     "execution_count": 39,
     "metadata": {},
     "output_type": "execute_result"
    }
   ],
   "source": [
    "from mlxtend.feature_selection import SequentialFeatureSelector as SFS\n",
    "sfs1 = SFS(estimator=xgb_model, \n",
    "           k_features=(3,8),\n",
    "           forward=True, \n",
    "           floating=True, \n",
    "           scoring='accuracy',\n",
    "           cv=5)\n",
    "sfs1.fit(x,y)"
   ]
  },
  {
   "cell_type": "code",
   "execution_count": 40,
   "metadata": {},
   "outputs": [
    {
     "data": {
      "image/png": "[encoded data removed]",
      "text/plain": [
       "<Figure size 432x288 with 1 Axes>"
      ]
     },
     "metadata": {
      "needs_background": "light"
     },
     "output_type": "display_data"
    }
   ],
   "source": [
    "from mlxtend.plotting import plot_sequential_feature_selection as plot_sfs\n",
    "\n",
    "fig1 = plot_sfs(sfs1.get_metric_dict(), kind='std_dev')\n",
    "\n",
    "plt.ylim([0.8, 1])\n",
    "plt.title('Sequential Forward Selection (w. StdDev)')\n",
    "plt.grid()\n",
    "plt.show()"
   ]
  },
  {
   "cell_type": "code",
   "execution_count": null,
   "metadata": {},
   "outputs": [],
   "source": []
  },
  {
   "cell_type": "code",
   "execution_count": 35,
   "metadata": {},
   "outputs": [],
   "source": [
    "from sklearn.preprocessing import StandardScaler\n",
    "st=StandardScaler()\n",
    "st.fit(x)\n",
    "x1=st.transform(x)\n",
    "test=st.transform(test_data3)"
   ]
  },
  {
   "cell_type": "code",
   "execution_count": 36,
   "metadata": {},
   "outputs": [],
   "source": [
    "#split data into train test by sample size .2\n",
    "X_train, X_test, y_train, y_test = train_test_split(x1,y, test_size=0.2)"
   ]
  },
  {
   "cell_type": "code",
   "execution_count": 15,
   "metadata": {},
   "outputs": [
    {
     "name": "stdout",
     "output_type": "stream",
     "text": [
      "[[14631   256     6]\n",
      " [ 2041   391    15]\n",
      " [  302   126     4]]\n",
      "0.8454872833670943\n"
     ]
    }
   ],
   "source": [
    "from sklearn.ensemble import RandomForestClassifier\n",
    "classifier = RandomForestClassifier(n_estimators =1000,max_depth=15, min_samples_split=5)\n",
    "classifier.fit(X_train,y_train)\n",
    "pred1=classifier.predict(X_test)\n",
    "print(confusion_matrix(y_test, pred1))\n",
    "print(accuracy_score(y_test,pred1))"
   ]
  },
  {
   "cell_type": "code",
   "execution_count": 37,
   "metadata": {},
   "outputs": [
    {
     "name": "stdout",
     "output_type": "stream",
     "text": [
      "[[14648   221     4]\n",
      " [ 2117   306     5]\n",
      " [  361   101     9]]\n",
      "0.8419423812739141\n"
     ]
    }
   ],
   "source": [
    "from sklearn.tree import DecisionTreeClassifier\n",
    "clf = DecisionTreeClassifier(random_state=0,max_depth=9, min_samples_split=5)\n",
    "clf.fit(X_train,y_train)\n",
    "pred1=clf.predict(X_test)\n",
    "print(confusion_matrix(y_test, pred1))\n",
    "print(accuracy_score(y_test,pred1))"
   ]
  },
  {
   "cell_type": "code",
   "execution_count": 17,
   "metadata": {},
   "outputs": [
    {
     "name": "stdout",
     "output_type": "stream",
     "text": [
      "[[14717   176     0]\n",
      " [ 2104   343     0]\n",
      " [  319   113     0]]\n",
      "0.8474004051316678\n"
     ]
    }
   ],
   "source": [
    "from sklearn.ensemble import GradientBoostingClassifier\n",
    "gbc= GradientBoostingClassifier(random_state=0,n_estimators=100)\n",
    "gbc.fit(X_train,y_train)\n",
    "pred1=gbc.predict(X_test)\n",
    "print(confusion_matrix(y_test, pred1))\n",
    "print(accuracy_score(y_test,pred1))"
   ]
  },
  {
   "cell_type": "code",
   "execution_count": null,
   "metadata": {},
   "outputs": [],
   "source": []
  },
  {
   "cell_type": "code",
   "execution_count": 38,
   "metadata": {},
   "outputs": [
    {
     "name": "stdout",
     "output_type": "stream",
     "text": [
      "[[14674   199     0]\n",
      " [ 1970   458     0]\n",
      " [  334   136     1]]\n",
      "0.8515079900967815\n"
     ]
    }
   ],
   "source": [
    "import xgboost as xgb\n",
    "xgb_model = xgb.XGBClassifier(n_estimator=100,learning_rate=0.1)\n",
    "xgb_model.fit(x1,y)\n",
    "pred1=xgb_model.predict(X_test)\n",
    "print(confusion_matrix(y_test, pred1))\n",
    "print(accuracy_score(y_test,pred1))"
   ]
  },
  {
   "cell_type": "code",
   "execution_count": 19,
   "metadata": {},
   "outputs": [
    {
     "name": "stdout",
     "output_type": "stream",
     "text": [
      "[[14673   220     0]\n",
      " [ 1974   473     0]\n",
      " [  291   141     0]]\n",
      "0.8522394778302949\n"
     ]
    }
   ],
   "source": [
    "from lightgbm import LGBMClassifier\n",
    "lgb= LGBMClassifier(n_estimators=100,learning_rate=0.1)\n",
    "lgb.fit(x1,y)\n",
    "pred1=lgb.predict(X_test)\n",
    "print(confusion_matrix(y_test, pred1))\n",
    "print(accuracy_score(y_test,pred1))"
   ]
  },
  {
   "cell_type": "code",
   "execution_count": 40,
   "metadata": {},
   "outputs": [
    {
     "name": "stdout",
     "output_type": "stream",
     "text": [
      "[[14696   177     0]\n",
      " [ 2012   416     0]\n",
      " [  346   125     0]]\n",
      "0.8503263560657214\n"
     ]
    }
   ],
   "source": [
    "from sklearn.ensemble import VotingClassifier\n",
    "estim=[('lgb',lgb),('xgb',xgb_model),('gbc',gbc)]\n",
    "vt=VotingClassifier(estimators=estim,voting=\"soft\")\n",
    "vt.fit(x1,y)\n",
    "pred1=vt.predict(X_test)\n",
    "print(confusion_matrix(y_test, pred1))\n",
    "print(accuracy_score(y_test,pred1))"
   ]
  },
  {
   "cell_type": "code",
   "execution_count": 25,
   "metadata": {},
   "outputs": [
    {
     "name": "stdout",
     "output_type": "stream",
     "text": [
      "[[14709   184     0]\n",
      " [ 2115   331     1]\n",
      " [  330   100     2]]\n",
      "0.8463875759621877\n"
     ]
    }
   ],
   "source": [
    "from sklearn.neural_network import MLPClassifier\n",
    "mp_clf=MLPClassifier(hidden_layer_sizes=(32,16,8))\n",
    "mp_clf.fit(x1,y)\n",
    "pred1=mp_clf.predict(X_test)\n",
    "print(confusion_matrix(y_test, pred1))\n",
    "print(accuracy_score(y_test,pred1))"
   ]
  },
  {
   "cell_type": "code",
   "execution_count": 41,
   "metadata": {},
   "outputs": [],
   "source": [
    "#submission file by lgb classifer\n",
    "pred=vt.predict(test)\n",
    "pred_sub=pd.DataFrame(pred,columns=['Crop_Damage'])\n",
    "final_data=pd.DataFrame(pd.concat([ID,pred_sub],axis=1))\n",
    "final_data.to_csv(r'C:\\Users\\User\\Desktop\\ms\\projects\\Janatahack Machine Learning in Agriculture\\final_sub.csv',index=False)"
   ]
  },
  {
   "cell_type": "code",
   "execution_count": null,
   "metadata": {},
   "outputs": [],
   "source": []
  }
 ],
 "metadata": {
  "kernelspec": {
   "display_name": "Python 3",
   "language": "python",
   "name": "python3"
  },
  "language_info": {
   "codemirror_mode": {
    "name": "ipython",
    "version": 3
   },
   "file_extension": ".py",
   "mimetype": "text/x-python",
   "name": "python",
   "nbconvert_exporter": "python",
   "pygments_lexer": "ipython3",
   "version": "3.7.7"
  }
 },
 "nbformat": 4,
 "nbformat_minor": 4
}
